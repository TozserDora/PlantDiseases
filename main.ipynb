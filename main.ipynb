{
 "cells": [
  {
   "cell_type": "markdown",
   "metadata": {},
   "source": [
    "### Imports"
   ]
  },
  {
   "cell_type": "code",
   "execution_count": 1,
   "metadata": {},
   "outputs": [
    {
     "name": "stderr",
     "output_type": "stream",
     "text": [
      "2024-06-22 19:52:21.288041: E external/local_xla/xla/stream_executor/plugin_registry.cc:93] Invalid plugin kind specified: DNN\n",
      "2024-06-22 19:52:21.336876: I tensorflow/core/platform/cpu_feature_guard.cc:182] This TensorFlow binary is optimized to use available CPU instructions in performance-critical operations.\n",
      "To enable the following instructions: AVX2 FMA, in other operations, rebuild TensorFlow with the appropriate compiler flags.\n"
     ]
    }
   ],
   "source": [
    "import tensorflow as tf\n",
    "\n",
    "\n",
    "from tensorflow.keras.layers import Dense, Conv2D, MaxPool2D, Flatten, Dropout\n",
    "from tensorflow.keras.models import Sequential\n",
    "from tensorflow.keras.optimizers import Adam"
   ]
  },
  {
   "cell_type": "code",
   "execution_count": 2,
   "metadata": {},
   "outputs": [
    {
     "name": "stderr",
     "output_type": "stream",
     "text": [
      "2024-06-22 19:52:22.838455: I external/local_xla/xla/stream_executor/rocm/rocm_gpu_executor.cc:787] successful NUMA node read from SysFS had negative value (-1), but there must be at least one NUMA node, so returning NUMA node zero\n",
      "2024-06-22 19:52:22.868055: I external/local_xla/xla/stream_executor/rocm/rocm_gpu_executor.cc:787] successful NUMA node read from SysFS had negative value (-1), but there must be at least one NUMA node, so returning NUMA node zero\n",
      "2024-06-22 19:52:22.868119: I external/local_xla/xla/stream_executor/rocm/rocm_gpu_executor.cc:787] successful NUMA node read from SysFS had negative value (-1), but there must be at least one NUMA node, so returning NUMA node zero\n"
     ]
    }
   ],
   "source": [
    "gpus = tf.config.experimental.list_physical_devices('GPU')\n",
    "if gpus:\n",
    "  try:\n",
    "    for gpu in gpus:\n",
    "      tf.config.experimental.set_memory_growth(gpu, True)\n",
    "  except RuntimeError as e:\n",
    "    print(e)"
   ]
  },
  {
   "cell_type": "markdown",
   "metadata": {},
   "source": [
    "### GPU?"
   ]
  },
  {
   "cell_type": "code",
   "execution_count": 3,
   "metadata": {},
   "outputs": [
    {
     "data": {
      "text/plain": [
       "[PhysicalDevice(name='/physical_device:GPU:0', device_type='GPU')]"
      ]
     },
     "execution_count": 3,
     "metadata": {},
     "output_type": "execute_result"
    }
   ],
   "source": [
    "tf.config.list_physical_devices('GPU')"
   ]
  },
  {
   "cell_type": "markdown",
   "metadata": {},
   "source": [
    "### Preprocessing"
   ]
  },
  {
   "cell_type": "code",
   "execution_count": 4,
   "metadata": {},
   "outputs": [
    {
     "name": "stdout",
     "output_type": "stream",
     "text": [
      "Found 70295 files belonging to 38 classes.\n"
     ]
    },
    {
     "name": "stderr",
     "output_type": "stream",
     "text": [
      "2024-06-22 19:52:25.070351: I external/local_xla/xla/stream_executor/rocm/rocm_gpu_executor.cc:787] successful NUMA node read from SysFS had negative value (-1), but there must be at least one NUMA node, so returning NUMA node zero\n",
      "2024-06-22 19:52:25.070454: I external/local_xla/xla/stream_executor/rocm/rocm_gpu_executor.cc:787] successful NUMA node read from SysFS had negative value (-1), but there must be at least one NUMA node, so returning NUMA node zero\n",
      "2024-06-22 19:52:25.070497: I external/local_xla/xla/stream_executor/rocm/rocm_gpu_executor.cc:787] successful NUMA node read from SysFS had negative value (-1), but there must be at least one NUMA node, so returning NUMA node zero\n",
      "2024-06-22 19:52:25.070619: I external/local_xla/xla/stream_executor/rocm/rocm_gpu_executor.cc:787] successful NUMA node read from SysFS had negative value (-1), but there must be at least one NUMA node, so returning NUMA node zero\n",
      "2024-06-22 19:52:25.070671: I external/local_xla/xla/stream_executor/rocm/rocm_gpu_executor.cc:787] successful NUMA node read from SysFS had negative value (-1), but there must be at least one NUMA node, so returning NUMA node zero\n",
      "2024-06-22 19:52:25.070726: I external/local_xla/xla/stream_executor/rocm/rocm_gpu_executor.cc:787] successful NUMA node read from SysFS had negative value (-1), but there must be at least one NUMA node, so returning NUMA node zero\n",
      "2024-06-22 19:52:25.070748: I tensorflow/core/common_runtime/gpu/gpu_device.cc:1929] Created device /job:localhost/replica:0/task:0/device:GPU:0 with 123 MB memory:  -> device: 0, name: Radeon RX 7900 XT, pci bus id: 0000:0c:00.0\n",
      "2024-06-22 19:52:25.316936: I tensorflow/core/common_runtime/gpu_fusion_pass.cc:508] ROCm Fusion is enabled.\n",
      "2024-06-22 19:52:25.319711: I tensorflow/core/common_runtime/gpu_fusion_pass.cc:508] ROCm Fusion is enabled.\n",
      "2024-06-22 19:52:25.383586: I tensorflow/core/common_runtime/gpu_fusion_pass.cc:508] ROCm Fusion is enabled.\n",
      "2024-06-22 19:52:25.385959: I tensorflow/core/common_runtime/gpu_fusion_pass.cc:508] ROCm Fusion is enabled.\n",
      "2024-06-22 19:52:25.388864: I tensorflow/core/common_runtime/gpu_fusion_pass.cc:508] ROCm Fusion is enabled.\n",
      "2024-06-22 19:52:25.389589: I tensorflow/core/common_runtime/gpu_fusion_pass.cc:508] ROCm Fusion is enabled.\n",
      "2024-06-22 19:52:25.395655: I tensorflow/core/common_runtime/gpu_fusion_pass.cc:508] ROCm Fusion is enabled.\n",
      "2024-06-22 19:52:25.397012: I tensorflow/core/common_runtime/gpu_fusion_pass.cc:508] ROCm Fusion is enabled.\n",
      "2024-06-22 19:52:25.484520: I tensorflow/core/common_runtime/gpu_fusion_pass.cc:508] ROCm Fusion is enabled.\n",
      "2024-06-22 19:52:25.487205: I tensorflow/core/common_runtime/gpu_fusion_pass.cc:508] ROCm Fusion is enabled.\n",
      "2024-06-22 19:52:25.784577: I tensorflow/core/common_runtime/gpu_fusion_pass.cc:508] ROCm Fusion is enabled.\n",
      "2024-06-22 19:52:26.411504: I tensorflow/core/common_runtime/gpu_fusion_pass.cc:508] ROCm Fusion is enabled.\n",
      "2024-06-22 19:52:26.412360: I tensorflow/core/common_runtime/gpu_fusion_pass.cc:508] ROCm Fusion is enabled.\n",
      "2024-06-22 19:52:26.413768: I tensorflow/core/common_runtime/gpu_fusion_pass.cc:508] ROCm Fusion is enabled.\n",
      "2024-06-22 19:52:26.414784: I tensorflow/core/common_runtime/gpu_fusion_pass.cc:508] ROCm Fusion is enabled.\n",
      "2024-06-22 19:52:26.415776: I tensorflow/core/common_runtime/gpu_fusion_pass.cc:508] ROCm Fusion is enabled.\n"
     ]
    }
   ],
   "source": [
    "training_imgs = tf.keras.utils.image_dataset_from_directory(\n",
    "    'data/train',\n",
    "    labels=\"inferred\", # Folder names will be used for labels\n",
    "    label_mode=\"categorical\",  # Not int\n",
    "    class_names=None,\n",
    "    color_mode=\"rgb\",\n",
    "    batch_size=32,\n",
    "    image_size=(128, 128),\n",
    "    shuffle=True,\n",
    "    seed=None,\n",
    "    validation_split=None,\n",
    "    subset=None,\n",
    "    interpolation=\"bilinear\",\n",
    "    follow_links=False,\n",
    "    crop_to_aspect_ratio=False\n",
    ")\n"
   ]
  },
  {
   "cell_type": "code",
   "execution_count": 5,
   "metadata": {},
   "outputs": [
    {
     "name": "stdout",
     "output_type": "stream",
     "text": [
      "Found 17572 files belonging to 38 classes.\n"
     ]
    },
    {
     "name": "stderr",
     "output_type": "stream",
     "text": [
      "2024-06-22 19:52:27.019780: I tensorflow/core/common_runtime/gpu_fusion_pass.cc:508] ROCm Fusion is enabled.\n",
      "2024-06-22 19:52:27.025312: I tensorflow/core/common_runtime/gpu_fusion_pass.cc:508] ROCm Fusion is enabled.\n",
      "2024-06-22 19:52:27.026394: I tensorflow/core/common_runtime/gpu_fusion_pass.cc:508] ROCm Fusion is enabled.\n",
      "2024-06-22 19:52:27.030385: I tensorflow/core/common_runtime/gpu_fusion_pass.cc:508] ROCm Fusion is enabled.\n",
      "2024-06-22 19:52:27.031282: I tensorflow/core/common_runtime/gpu_fusion_pass.cc:508] ROCm Fusion is enabled.\n",
      "2024-06-22 19:52:27.032596: I tensorflow/core/common_runtime/gpu_fusion_pass.cc:508] ROCm Fusion is enabled.\n",
      "2024-06-22 19:52:27.033635: I tensorflow/core/common_runtime/gpu_fusion_pass.cc:508] ROCm Fusion is enabled.\n",
      "2024-06-22 19:52:27.034331: I tensorflow/core/common_runtime/gpu_fusion_pass.cc:508] ROCm Fusion is enabled.\n"
     ]
    }
   ],
   "source": [
    "valid_imgs = tf.keras.utils.image_dataset_from_directory(\n",
    "    'data/valid',\n",
    "    labels=\"inferred\", # Folder names will be used for labels\n",
    "    label_mode=\"categorical\",  # Not int\n",
    "    class_names=None,\n",
    "    color_mode=\"rgb\",\n",
    "    batch_size=32,\n",
    "    image_size=(128, 128),\n",
    "    shuffle=True,\n",
    "    seed=None,\n",
    "    validation_split=None,\n",
    "    subset=None,\n",
    "    interpolation=\"bilinear\",\n",
    "    follow_links=False,\n",
    "    crop_to_aspect_ratio=False\n",
    ")"
   ]
  },
  {
   "cell_type": "markdown",
   "metadata": {},
   "source": [
    "### Build the model"
   ]
  },
  {
   "cell_type": "code",
   "execution_count": 6,
   "metadata": {},
   "outputs": [
    {
     "name": "stderr",
     "output_type": "stream",
     "text": [
      "2024-06-22 19:52:27.049411: I tensorflow/core/common_runtime/gpu_fusion_pass.cc:508] ROCm Fusion is enabled.\n",
      "2024-06-22 19:52:27.050095: I tensorflow/core/common_runtime/gpu_fusion_pass.cc:508] ROCm Fusion is enabled.\n"
     ]
    }
   ],
   "source": [
    "# Create the model object\n",
    "model = Sequential()"
   ]
  },
  {
   "cell_type": "code",
   "execution_count": 7,
   "metadata": {},
   "outputs": [
    {
     "name": "stderr",
     "output_type": "stream",
     "text": [
      "2024-06-22 19:52:27.062557: I tensorflow/core/common_runtime/gpu_fusion_pass.cc:508] ROCm Fusion is enabled.\n",
      "2024-06-22 19:52:27.063750: I tensorflow/core/common_runtime/gpu_fusion_pass.cc:508] ROCm Fusion is enabled.\n",
      "2024-06-22 19:52:27.065581: I tensorflow/core/common_runtime/gpu_fusion_pass.cc:508] ROCm Fusion is enabled.\n",
      "2024-06-22 19:52:27.068292: I tensorflow/core/common_runtime/gpu_fusion_pass.cc:508] ROCm Fusion is enabled.\n",
      "2024-06-22 19:52:27.070853: I tensorflow/core/common_runtime/gpu_fusion_pass.cc:508] ROCm Fusion is enabled.\n",
      "2024-06-22 19:52:27.073227: I tensorflow/core/common_runtime/gpu_fusion_pass.cc:508] ROCm Fusion is enabled.\n",
      "2024-06-22 19:52:27.076079: I tensorflow/core/common_runtime/gpu_fusion_pass.cc:508] ROCm Fusion is enabled.\n",
      "2024-06-22 19:52:27.076703: I tensorflow/core/common_runtime/gpu_fusion_pass.cc:508] ROCm Fusion is enabled.\n",
      "2024-06-22 19:52:27.079291: I tensorflow/core/common_runtime/gpu_fusion_pass.cc:508] ROCm Fusion is enabled.\n",
      "2024-06-22 19:52:27.083653: I tensorflow/core/common_runtime/gpu_fusion_pass.cc:508] ROCm Fusion is enabled.\n",
      "2024-06-22 19:52:27.084241: I tensorflow/core/common_runtime/gpu_fusion_pass.cc:508] ROCm Fusion is enabled.\n",
      "2024-06-22 19:52:27.091075: I tensorflow/core/common_runtime/gpu_fusion_pass.cc:508] ROCm Fusion is enabled.\n",
      "2024-06-22 19:52:27.091671: I tensorflow/core/common_runtime/gpu_fusion_pass.cc:508] ROCm Fusion is enabled.\n",
      "2024-06-22 19:52:27.092527: I tensorflow/core/common_runtime/gpu_fusion_pass.cc:508] ROCm Fusion is enabled.\n",
      "2024-06-22 19:52:27.101478: I tensorflow/core/common_runtime/gpu_fusion_pass.cc:508] ROCm Fusion is enabled.\n",
      "2024-06-22 19:52:27.102087: I tensorflow/core/common_runtime/gpu_fusion_pass.cc:508] ROCm Fusion is enabled.\n",
      "2024-06-22 19:52:27.103031: I tensorflow/core/common_runtime/gpu_fusion_pass.cc:508] ROCm Fusion is enabled.\n",
      "2024-06-22 19:52:27.103543: I tensorflow/core/common_runtime/gpu_fusion_pass.cc:508] ROCm Fusion is enabled.\n",
      "2024-06-22 19:52:27.110069: I tensorflow/core/common_runtime/gpu_fusion_pass.cc:508] ROCm Fusion is enabled.\n",
      "2024-06-22 19:52:27.110688: I tensorflow/core/common_runtime/gpu_fusion_pass.cc:508] ROCm Fusion is enabled.\n",
      "2024-06-22 19:52:27.111608: I tensorflow/core/common_runtime/gpu_fusion_pass.cc:508] ROCm Fusion is enabled.\n",
      "2024-06-22 19:52:27.119535: I tensorflow/core/common_runtime/gpu_fusion_pass.cc:508] ROCm Fusion is enabled.\n",
      "2024-06-22 19:52:27.120106: I tensorflow/core/common_runtime/gpu_fusion_pass.cc:508] ROCm Fusion is enabled.\n",
      "2024-06-22 19:52:27.120971: I tensorflow/core/common_runtime/gpu_fusion_pass.cc:508] ROCm Fusion is enabled.\n",
      "2024-06-22 19:52:27.121487: I tensorflow/core/common_runtime/gpu_fusion_pass.cc:508] ROCm Fusion is enabled.\n",
      "2024-06-22 19:52:27.127662: I tensorflow/core/common_runtime/gpu_fusion_pass.cc:508] ROCm Fusion is enabled.\n",
      "2024-06-22 19:52:27.128247: I tensorflow/core/common_runtime/gpu_fusion_pass.cc:508] ROCm Fusion is enabled.\n",
      "2024-06-22 19:52:27.129295: I tensorflow/core/common_runtime/gpu_fusion_pass.cc:508] ROCm Fusion is enabled.\n",
      "2024-06-22 19:52:27.137060: I tensorflow/core/common_runtime/gpu_fusion_pass.cc:508] ROCm Fusion is enabled.\n",
      "2024-06-22 19:52:27.137609: I tensorflow/core/common_runtime/gpu_fusion_pass.cc:508] ROCm Fusion is enabled.\n",
      "2024-06-22 19:52:27.138401: I tensorflow/core/common_runtime/gpu_fusion_pass.cc:508] ROCm Fusion is enabled.\n",
      "2024-06-22 19:52:27.138906: I tensorflow/core/common_runtime/gpu_fusion_pass.cc:508] ROCm Fusion is enabled.\n",
      "2024-06-22 19:52:27.144994: I tensorflow/core/common_runtime/gpu_fusion_pass.cc:508] ROCm Fusion is enabled.\n",
      "2024-06-22 19:52:27.145574: I tensorflow/core/common_runtime/gpu_fusion_pass.cc:508] ROCm Fusion is enabled.\n",
      "2024-06-22 19:52:27.146460: I tensorflow/core/common_runtime/gpu_fusion_pass.cc:508] ROCm Fusion is enabled.\n",
      "2024-06-22 19:52:27.154368: I tensorflow/core/common_runtime/gpu_fusion_pass.cc:508] ROCm Fusion is enabled.\n",
      "2024-06-22 19:52:27.154932: I tensorflow/core/common_runtime/gpu_fusion_pass.cc:508] ROCm Fusion is enabled.\n",
      "2024-06-22 19:52:27.155768: I tensorflow/core/common_runtime/gpu_fusion_pass.cc:508] ROCm Fusion is enabled.\n",
      "2024-06-22 19:52:27.156277: I tensorflow/core/common_runtime/gpu_fusion_pass.cc:508] ROCm Fusion is enabled.\n",
      "2024-06-22 19:52:27.163125: I tensorflow/core/common_runtime/gpu_fusion_pass.cc:508] ROCm Fusion is enabled.\n",
      "2024-06-22 19:52:27.163708: I tensorflow/core/common_runtime/gpu_fusion_pass.cc:508] ROCm Fusion is enabled.\n",
      "2024-06-22 19:52:27.164538: I tensorflow/core/common_runtime/gpu_fusion_pass.cc:508] ROCm Fusion is enabled.\n"
     ]
    }
   ],
   "source": [
    "# Add the layers\n",
    "model.add(Conv2D(filters=32, kernel_size=3, padding=\"same\", activation=\"relu\", input_shape=[128,128,3]))\n",
    "model.add(Conv2D(filters=32, kernel_size=3, activation=\"relu\"))\n",
    "model.add(MaxPool2D(pool_size=2, strides=2))\n",
    "\n",
    "model.add(Conv2D(filters=64, kernel_size=3, padding=\"same\", activation=\"relu\"))\n",
    "model.add(Conv2D(filters=64, kernel_size=3, activation=\"relu\"))\n",
    "model.add(MaxPool2D(pool_size=2, strides=2))\n",
    "\n",
    "model.add(Conv2D(filters=128, kernel_size=3, padding=\"same\", activation=\"relu\"))\n",
    "model.add(Conv2D(filters=128, kernel_size=3, activation=\"relu\"))\n",
    "model.add(MaxPool2D(pool_size=2, strides=2))\n",
    "\n",
    "model.add(Conv2D(filters=256, kernel_size=3, padding=\"same\", activation=\"relu\"))\n",
    "model.add(Conv2D(filters=256, kernel_size=3, activation=\"relu\"))\n",
    "model.add(MaxPool2D(pool_size=2, strides=2))\n",
    "\n",
    "model.add(Conv2D(filters=512, kernel_size=3, padding=\"same\", activation=\"relu\"))\n",
    "model.add(Conv2D(filters=512, kernel_size=3, activation=\"relu\"))\n",
    "model.add(MaxPool2D(pool_size=2, strides=2))"
   ]
  },
  {
   "cell_type": "code",
   "execution_count": 8,
   "metadata": {},
   "outputs": [],
   "source": [
    "model.add(Dropout(0.25))"
   ]
  },
  {
   "cell_type": "code",
   "execution_count": 9,
   "metadata": {},
   "outputs": [],
   "source": [
    "# Flattening\n",
    "model.add(Flatten())"
   ]
  },
  {
   "cell_type": "code",
   "execution_count": 10,
   "metadata": {},
   "outputs": [
    {
     "name": "stderr",
     "output_type": "stream",
     "text": [
      "2024-06-22 19:52:27.201895: I tensorflow/core/common_runtime/gpu_fusion_pass.cc:508] ROCm Fusion is enabled.\n",
      "2024-06-22 19:52:27.202616: I tensorflow/core/common_runtime/gpu_fusion_pass.cc:508] ROCm Fusion is enabled.\n",
      "2024-06-22 19:52:27.203745: I tensorflow/core/common_runtime/gpu_fusion_pass.cc:508] ROCm Fusion is enabled.\n",
      "2024-06-22 19:52:27.204296: I tensorflow/core/common_runtime/gpu_fusion_pass.cc:508] ROCm Fusion is enabled.\n"
     ]
    }
   ],
   "source": [
    "# Add the dense (hidden) layer\n",
    "model.add(Dense(units=1500, activation=\"relu\"))"
   ]
  },
  {
   "cell_type": "code",
   "execution_count": 11,
   "metadata": {},
   "outputs": [],
   "source": [
    "model.add(Dropout(0.4))"
   ]
  },
  {
   "cell_type": "code",
   "execution_count": 12,
   "metadata": {},
   "outputs": [
    {
     "name": "stderr",
     "output_type": "stream",
     "text": [
      "2024-06-22 19:52:27.225009: I tensorflow/core/common_runtime/gpu_fusion_pass.cc:508] ROCm Fusion is enabled.\n",
      "2024-06-22 19:52:27.225662: I tensorflow/core/common_runtime/gpu_fusion_pass.cc:508] ROCm Fusion is enabled.\n",
      "2024-06-22 19:52:27.226638: I tensorflow/core/common_runtime/gpu_fusion_pass.cc:508] ROCm Fusion is enabled.\n",
      "2024-06-22 19:52:27.227261: I tensorflow/core/common_runtime/gpu_fusion_pass.cc:508] ROCm Fusion is enabled.\n"
     ]
    }
   ],
   "source": [
    "# Add the output layer\n",
    "model.add(Dense(units=38, activation=\"softmax\"))  # --> Probability of each class, then find the max"
   ]
  },
  {
   "cell_type": "markdown",
   "metadata": {},
   "source": [
    "### Compile the model"
   ]
  },
  {
   "cell_type": "code",
   "execution_count": 13,
   "metadata": {},
   "outputs": [
    {
     "name": "stderr",
     "output_type": "stream",
     "text": [
      "2024-06-22 19:52:27.237194: I tensorflow/core/common_runtime/gpu_fusion_pass.cc:508] ROCm Fusion is enabled.\n",
      "2024-06-22 19:52:27.238449: I tensorflow/core/common_runtime/gpu_fusion_pass.cc:508] ROCm Fusion is enabled.\n",
      "2024-06-22 19:52:27.239015: I tensorflow/core/common_runtime/gpu_fusion_pass.cc:508] ROCm Fusion is enabled.\n",
      "2024-06-22 19:52:27.242787: I tensorflow/core/common_runtime/gpu_fusion_pass.cc:508] ROCm Fusion is enabled.\n",
      "2024-06-22 19:52:27.243842: I tensorflow/core/common_runtime/gpu_fusion_pass.cc:508] ROCm Fusion is enabled.\n"
     ]
    }
   ],
   "source": [
    "model.compile(optimizer=Adam(learning_rate=0.0001), loss=\"categorical_crossentropy\", metrics=[\"accuracy\"])"
   ]
  },
  {
   "cell_type": "markdown",
   "metadata": {},
   "source": [
    "### Check out the structure of the model"
   ]
  },
  {
   "cell_type": "code",
   "execution_count": 14,
   "metadata": {},
   "outputs": [
    {
     "name": "stdout",
     "output_type": "stream",
     "text": [
      "Model: \"sequential\"\n",
      "_________________________________________________________________\n",
      " Layer (type)                Output Shape              Param #   \n",
      "=================================================================\n",
      " conv2d (Conv2D)             (None, 128, 128, 32)      896       \n",
      "                                                                 \n",
      " conv2d_1 (Conv2D)           (None, 126, 126, 32)      9248      \n",
      "                                                                 \n",
      " max_pooling2d (MaxPooling2  (None, 63, 63, 32)        0         \n",
      " D)                                                              \n",
      "                                                                 \n",
      " conv2d_2 (Conv2D)           (None, 63, 63, 64)        18496     \n",
      "                                                                 \n",
      " conv2d_3 (Conv2D)           (None, 61, 61, 64)        36928     \n",
      "                                                                 \n",
      " max_pooling2d_1 (MaxPoolin  (None, 30, 30, 64)        0         \n",
      " g2D)                                                            \n",
      "                                                                 \n",
      " conv2d_4 (Conv2D)           (None, 30, 30, 128)       73856     \n",
      "                                                                 \n",
      " conv2d_5 (Conv2D)           (None, 28, 28, 128)       147584    \n",
      "                                                                 \n",
      " max_pooling2d_2 (MaxPoolin  (None, 14, 14, 128)       0         \n",
      " g2D)                                                            \n",
      "                                                                 \n",
      " conv2d_6 (Conv2D)           (None, 14, 14, 256)       295168    \n",
      "                                                                 \n",
      " conv2d_7 (Conv2D)           (None, 12, 12, 256)       590080    \n",
      "                                                                 \n",
      " max_pooling2d_3 (MaxPoolin  (None, 6, 6, 256)         0         \n",
      " g2D)                                                            \n",
      "                                                                 \n",
      " conv2d_8 (Conv2D)           (None, 6, 6, 512)         1180160   \n",
      "                                                                 \n",
      " conv2d_9 (Conv2D)           (None, 4, 4, 512)         2359808   \n",
      "                                                                 \n",
      " max_pooling2d_4 (MaxPoolin  (None, 2, 2, 512)         0         \n",
      " g2D)                                                            \n",
      "                                                                 \n",
      " dropout (Dropout)           (None, 2, 2, 512)         0         \n",
      "                                                                 \n",
      " flatten (Flatten)           (None, 2048)              0         \n",
      "                                                                 \n",
      " dense (Dense)               (None, 1500)              3073500   \n",
      "                                                                 \n",
      " dropout_1 (Dropout)         (None, 1500)              0         \n",
      "                                                                 \n",
      " dense_1 (Dense)             (None, 38)                57038     \n",
      "                                                                 \n",
      "=================================================================\n",
      "Total params: 7842762 (29.92 MB)\n",
      "Trainable params: 7842762 (29.92 MB)\n",
      "Non-trainable params: 0 (0.00 Byte)\n",
      "_________________________________________________________________\n"
     ]
    }
   ],
   "source": [
    "model.summary()"
   ]
  },
  {
   "cell_type": "markdown",
   "metadata": {},
   "source": [
    "### Training"
   ]
  },
  {
   "cell_type": "code",
   "execution_count": 15,
   "metadata": {},
   "outputs": [
    {
     "name": "stdout",
     "output_type": "stream",
     "text": [
      "Epoch 1/10\n"
     ]
    },
    {
     "name": "stderr",
     "output_type": "stream",
     "text": [
      "2024-06-22 19:52:27.275919: I tensorflow/core/common_runtime/gpu_fusion_pass.cc:508] ROCm Fusion is enabled.\n",
      "2024-06-22 19:52:27.277241: I tensorflow/core/common_runtime/gpu_fusion_pass.cc:508] ROCm Fusion is enabled.\n",
      "2024-06-22 19:52:27.278466: I tensorflow/core/common_runtime/gpu_fusion_pass.cc:508] ROCm Fusion is enabled.\n",
      "2024-06-22 19:52:27.280258: I tensorflow/core/common_runtime/gpu_fusion_pass.cc:508] ROCm Fusion is enabled.\n",
      "2024-06-22 19:52:27.281434: I tensorflow/core/common_runtime/gpu_fusion_pass.cc:508] ROCm Fusion is enabled.\n",
      "2024-06-22 19:52:27.289210: I tensorflow/core/common_runtime/gpu_fusion_pass.cc:508] ROCm Fusion is enabled.\n",
      "2024-06-22 19:52:27.291387: I tensorflow/core/common_runtime/gpu_fusion_pass.cc:508] ROCm Fusion is enabled.\n",
      "2024-06-22 19:52:27.292209: I tensorflow/core/common_runtime/gpu_fusion_pass.cc:508] ROCm Fusion is enabled.\n",
      "2024-06-22 19:52:27.421265: I tensorflow/core/common_runtime/gpu_fusion_pass.cc:508] ROCm Fusion is enabled.\n",
      "2024-06-22 19:52:27.422294: I tensorflow/core/common_runtime/gpu_fusion_pass.cc:508] ROCm Fusion is enabled.\n",
      "2024-06-22 19:52:27.423680: I tensorflow/core/common_runtime/gpu_fusion_pass.cc:508] ROCm Fusion is enabled.\n",
      "2024-06-22 19:52:27.424465: I tensorflow/core/common_runtime/gpu_fusion_pass.cc:508] ROCm Fusion is enabled.\n",
      "2024-06-22 19:52:27.425275: I tensorflow/core/common_runtime/gpu_fusion_pass.cc:508] ROCm Fusion is enabled.\n",
      "2024-06-22 19:52:27.426268: I tensorflow/core/common_runtime/gpu_fusion_pass.cc:508] ROCm Fusion is enabled.\n",
      "2024-06-22 19:52:27.427249: I tensorflow/core/common_runtime/gpu_fusion_pass.cc:508] ROCm Fusion is enabled.\n",
      "2024-06-22 19:52:27.428102: I tensorflow/core/common_runtime/gpu_fusion_pass.cc:508] ROCm Fusion is enabled.\n",
      "2024-06-22 19:52:27.428916: I tensorflow/core/common_runtime/gpu_fusion_pass.cc:508] ROCm Fusion is enabled.\n",
      "2024-06-22 19:52:27.429717: I tensorflow/core/common_runtime/gpu_fusion_pass.cc:508] ROCm Fusion is enabled.\n",
      "2024-06-22 19:52:27.430516: I tensorflow/core/common_runtime/gpu_fusion_pass.cc:508] ROCm Fusion is enabled.\n",
      "2024-06-22 19:52:27.431312: I tensorflow/core/common_runtime/gpu_fusion_pass.cc:508] ROCm Fusion is enabled.\n",
      "2024-06-22 19:52:27.432128: I tensorflow/core/common_runtime/gpu_fusion_pass.cc:508] ROCm Fusion is enabled.\n",
      "2024-06-22 19:52:27.432944: I tensorflow/core/common_runtime/gpu_fusion_pass.cc:508] ROCm Fusion is enabled.\n",
      "2024-06-22 19:52:27.433794: I tensorflow/core/common_runtime/gpu_fusion_pass.cc:508] ROCm Fusion is enabled.\n",
      "2024-06-22 19:52:27.434583: I tensorflow/core/common_runtime/gpu_fusion_pass.cc:508] ROCm Fusion is enabled.\n",
      "2024-06-22 19:52:27.435385: I tensorflow/core/common_runtime/gpu_fusion_pass.cc:508] ROCm Fusion is enabled.\n",
      "2024-06-22 19:52:27.436202: I tensorflow/core/common_runtime/gpu_fusion_pass.cc:508] ROCm Fusion is enabled.\n",
      "2024-06-22 19:52:27.437008: I tensorflow/core/common_runtime/gpu_fusion_pass.cc:508] ROCm Fusion is enabled.\n",
      "2024-06-22 19:52:27.437899: I tensorflow/core/common_runtime/gpu_fusion_pass.cc:508] ROCm Fusion is enabled.\n",
      "2024-06-22 19:52:27.438758: I tensorflow/core/common_runtime/gpu_fusion_pass.cc:508] ROCm Fusion is enabled.\n",
      "2024-06-22 19:52:27.439611: I tensorflow/core/common_runtime/gpu_fusion_pass.cc:508] ROCm Fusion is enabled.\n",
      "2024-06-22 19:52:27.440414: I tensorflow/core/common_runtime/gpu_fusion_pass.cc:508] ROCm Fusion is enabled.\n",
      "2024-06-22 19:52:27.441213: I tensorflow/core/common_runtime/gpu_fusion_pass.cc:508] ROCm Fusion is enabled.\n",
      "2024-06-22 19:52:27.442020: I tensorflow/core/common_runtime/gpu_fusion_pass.cc:508] ROCm Fusion is enabled.\n",
      "2024-06-22 19:52:27.442836: I tensorflow/core/common_runtime/gpu_fusion_pass.cc:508] ROCm Fusion is enabled.\n",
      "2024-06-22 19:52:27.443664: I tensorflow/core/common_runtime/gpu_fusion_pass.cc:508] ROCm Fusion is enabled.\n",
      "2024-06-22 19:52:27.444465: I tensorflow/core/common_runtime/gpu_fusion_pass.cc:508] ROCm Fusion is enabled.\n",
      "2024-06-22 19:52:27.445259: I tensorflow/core/common_runtime/gpu_fusion_pass.cc:508] ROCm Fusion is enabled.\n",
      "2024-06-22 19:52:27.446114: I tensorflow/core/common_runtime/gpu_fusion_pass.cc:508] ROCm Fusion is enabled.\n",
      "2024-06-22 19:52:27.446912: I tensorflow/core/common_runtime/gpu_fusion_pass.cc:508] ROCm Fusion is enabled.\n",
      "2024-06-22 19:52:27.447711: I tensorflow/core/common_runtime/gpu_fusion_pass.cc:508] ROCm Fusion is enabled.\n",
      "2024-06-22 19:52:27.448510: I tensorflow/core/common_runtime/gpu_fusion_pass.cc:508] ROCm Fusion is enabled.\n",
      "2024-06-22 19:52:27.449333: I tensorflow/core/common_runtime/gpu_fusion_pass.cc:508] ROCm Fusion is enabled.\n",
      "2024-06-22 19:52:27.450128: I tensorflow/core/common_runtime/gpu_fusion_pass.cc:508] ROCm Fusion is enabled.\n",
      "2024-06-22 19:52:27.450922: I tensorflow/core/common_runtime/gpu_fusion_pass.cc:508] ROCm Fusion is enabled.\n",
      "2024-06-22 19:52:27.451729: I tensorflow/core/common_runtime/gpu_fusion_pass.cc:508] ROCm Fusion is enabled.\n",
      "2024-06-22 19:52:27.452579: I tensorflow/core/common_runtime/gpu_fusion_pass.cc:508] ROCm Fusion is enabled.\n",
      "2024-06-22 19:52:27.453398: I tensorflow/core/common_runtime/gpu_fusion_pass.cc:508] ROCm Fusion is enabled.\n",
      "2024-06-22 19:52:27.454193: I tensorflow/core/common_runtime/gpu_fusion_pass.cc:508] ROCm Fusion is enabled.\n",
      "2024-06-22 19:52:27.455005: I tensorflow/core/common_runtime/gpu_fusion_pass.cc:508] ROCm Fusion is enabled.\n",
      "2024-06-22 19:52:27.455849: I tensorflow/core/common_runtime/gpu_fusion_pass.cc:508] ROCm Fusion is enabled.\n",
      "2024-06-22 19:52:27.456662: I tensorflow/core/common_runtime/gpu_fusion_pass.cc:508] ROCm Fusion is enabled.\n",
      "2024-06-22 19:52:27.457457: I tensorflow/core/common_runtime/gpu_fusion_pass.cc:508] ROCm Fusion is enabled.\n",
      "2024-06-22 19:52:27.458280: I tensorflow/core/common_runtime/gpu_fusion_pass.cc:508] ROCm Fusion is enabled.\n",
      "2024-06-22 19:52:27.459167: I tensorflow/core/common_runtime/gpu_fusion_pass.cc:508] ROCm Fusion is enabled.\n",
      "2024-06-22 19:52:27.460020: I tensorflow/core/common_runtime/gpu_fusion_pass.cc:508] ROCm Fusion is enabled.\n",
      "2024-06-22 19:52:27.460841: I tensorflow/core/common_runtime/gpu_fusion_pass.cc:508] ROCm Fusion is enabled.\n",
      "2024-06-22 19:52:28.230157: I tensorflow/core/common_runtime/gpu_fusion_pass.cc:508] ROCm Fusion is enabled.\n",
      "2024-06-22 19:52:28.239346: I tensorflow/core/common_runtime/gpu_fusion_pass.cc:508] ROCm Fusion is enabled.\n",
      "2024-06-22 19:52:28.242074: I tensorflow/core/common_runtime/gpu_fusion_pass.cc:508] ROCm Fusion is enabled.\n",
      "2024-06-22 19:52:38.290019: W external/local_tsl/tsl/framework/bfc_allocator.cc:485] Allocator (GPU_0_bfc) ran out of memory trying to allocate 64.00MiB (rounded to 67108864)requested by op sequential/conv2d/Conv2D\n",
      "If the cause is memory fragmentation maybe the environment variable 'TF_GPU_ALLOCATOR=cuda_malloc_async' will improve the situation. \n",
      "Current allocation summary follows.\n",
      "Current allocation summary follows.\n",
      "2024-06-22 19:52:38.290070: I external/local_tsl/tsl/framework/bfc_allocator.cc:1039] BFCAllocator dump for GPU_0_bfc\n",
      "2024-06-22 19:52:38.290085: I external/local_tsl/tsl/framework/bfc_allocator.cc:1046] Bin (256): \tTotal Chunks: 66, Chunks in use: 65. 16.5KiB allocated for chunks. 16.2KiB in use in bin. 3.2KiB client-requested in use in bin.\n",
      "2024-06-22 19:52:38.290096: I external/local_tsl/tsl/framework/bfc_allocator.cc:1046] Bin (512): \tTotal Chunks: 6, Chunks in use: 6. 3.0KiB allocated for chunks. 3.0KiB in use in bin. 3.0KiB client-requested in use in bin.\n",
      "2024-06-22 19:52:38.290107: I external/local_tsl/tsl/framework/bfc_allocator.cc:1046] Bin (1024): \tTotal Chunks: 7, Chunks in use: 7. 7.2KiB allocated for chunks. 7.2KiB in use in bin. 7.0KiB client-requested in use in bin.\n",
      "2024-06-22 19:52:38.290118: I external/local_tsl/tsl/framework/bfc_allocator.cc:1046] Bin (2048): \tTotal Chunks: 9, Chunks in use: 9. 22.5KiB allocated for chunks. 22.5KiB in use in bin. 22.1KiB client-requested in use in bin.\n",
      "2024-06-22 19:52:38.290128: I external/local_tsl/tsl/framework/bfc_allocator.cc:1046] Bin (4096): \tTotal Chunks: 4, Chunks in use: 4. 24.2KiB allocated for chunks. 24.2KiB in use in bin. 22.3KiB client-requested in use in bin.\n",
      "2024-06-22 19:52:38.290138: I external/local_tsl/tsl/framework/bfc_allocator.cc:1046] Bin (8192): \tTotal Chunks: 0, Chunks in use: 0. 0B allocated for chunks. 0B in use in bin. 0B client-requested in use in bin.\n",
      "2024-06-22 19:52:38.290148: I external/local_tsl/tsl/framework/bfc_allocator.cc:1046] Bin (16384): \tTotal Chunks: 0, Chunks in use: 0. 0B allocated for chunks. 0B in use in bin. 0B client-requested in use in bin.\n",
      "2024-06-22 19:52:38.290159: I external/local_tsl/tsl/framework/bfc_allocator.cc:1046] Bin (32768): \tTotal Chunks: 3, Chunks in use: 3. 123.0KiB allocated for chunks. 123.0KiB in use in bin. 108.0KiB client-requested in use in bin.\n",
      "2024-06-22 19:52:38.290170: I external/local_tsl/tsl/framework/bfc_allocator.cc:1046] Bin (65536): \tTotal Chunks: 3, Chunks in use: 3. 216.0KiB allocated for chunks. 216.0KiB in use in bin. 216.0KiB client-requested in use in bin.\n",
      "2024-06-22 19:52:38.290181: I external/local_tsl/tsl/framework/bfc_allocator.cc:1046] Bin (131072): \tTotal Chunks: 6, Chunks in use: 5. 1020.8KiB allocated for chunks. 877.5KiB in use in bin. 877.3KiB client-requested in use in bin.\n",
      "2024-06-22 19:52:38.290192: I external/local_tsl/tsl/framework/bfc_allocator.cc:1046] Bin (262144): \tTotal Chunks: 4, Chunks in use: 4. 1.16MiB allocated for chunks. 1.16MiB in use in bin. 1.06MiB client-requested in use in bin.\n",
      "2024-06-22 19:52:38.290202: I external/local_tsl/tsl/framework/bfc_allocator.cc:1046] Bin (524288): \tTotal Chunks: 3, Chunks in use: 3. 1.69MiB allocated for chunks. 1.69MiB in use in bin. 1.69MiB client-requested in use in bin.\n",
      "2024-06-22 19:52:38.290212: I external/local_tsl/tsl/framework/bfc_allocator.cc:1046] Bin (1048576): \tTotal Chunks: 4, Chunks in use: 3. 4.62MiB allocated for chunks. 3.38MiB in use in bin. 3.38MiB client-requested in use in bin.\n",
      "2024-06-22 19:52:38.290222: I external/local_tsl/tsl/framework/bfc_allocator.cc:1046] Bin (2097152): \tTotal Chunks: 3, Chunks in use: 3. 7.38MiB allocated for chunks. 7.38MiB in use in bin. 6.75MiB client-requested in use in bin.\n",
      "2024-06-22 19:52:38.290233: I external/local_tsl/tsl/framework/bfc_allocator.cc:1046] Bin (4194304): \tTotal Chunks: 5, Chunks in use: 3. 28.75MiB allocated for chunks. 18.25MiB in use in bin. 13.50MiB client-requested in use in bin.\n",
      "2024-06-22 19:52:38.290244: I external/local_tsl/tsl/framework/bfc_allocator.cc:1046] Bin (8388608): \tTotal Chunks: 7, Chunks in use: 7. 78.00MiB allocated for chunks. 78.00MiB in use in bin. 68.16MiB client-requested in use in bin.\n",
      "2024-06-22 19:52:38.290253: I external/local_tsl/tsl/framework/bfc_allocator.cc:1046] Bin (16777216): \tTotal Chunks: 0, Chunks in use: 0. 0B allocated for chunks. 0B in use in bin. 0B client-requested in use in bin.\n",
      "2024-06-22 19:52:38.290262: I external/local_tsl/tsl/framework/bfc_allocator.cc:1046] Bin (33554432): \tTotal Chunks: 0, Chunks in use: 0. 0B allocated for chunks. 0B in use in bin. 0B client-requested in use in bin.\n",
      "2024-06-22 19:52:38.290274: I external/local_tsl/tsl/framework/bfc_allocator.cc:1046] Bin (67108864): \tTotal Chunks: 0, Chunks in use: 0. 0B allocated for chunks. 0B in use in bin. 0B client-requested in use in bin.\n",
      "2024-06-22 19:52:38.290283: I external/local_tsl/tsl/framework/bfc_allocator.cc:1046] Bin (134217728): \tTotal Chunks: 0, Chunks in use: 0. 0B allocated for chunks. 0B in use in bin. 0B client-requested in use in bin.\n",
      "2024-06-22 19:52:38.290292: I external/local_tsl/tsl/framework/bfc_allocator.cc:1046] Bin (268435456): \tTotal Chunks: 0, Chunks in use: 0. 0B allocated for chunks. 0B in use in bin. 0B client-requested in use in bin.\n",
      "2024-06-22 19:52:38.290302: I external/local_tsl/tsl/framework/bfc_allocator.cc:1062] Bin for 64.00MiB was 64.00MiB, Chunk State: \n",
      "2024-06-22 19:52:38.290311: I external/local_tsl/tsl/framework/bfc_allocator.cc:1075] Next region of size 63963136\n",
      "2024-06-22 19:52:38.290322: I external/local_tsl/tsl/framework/bfc_allocator.cc:1095] InUse at 746b30000000 of size 12288000 next 71\n",
      "2024-06-22 19:52:38.290331: I external/local_tsl/tsl/framework/bfc_allocator.cc:1095] InUse at 746b30bb8000 of size 12288000 next 69\n",
      "2024-06-22 19:52:38.290339: I external/local_tsl/tsl/framework/bfc_allocator.cc:1095] InUse at 746b31770000 of size 12288000 next 112\n",
      "2024-06-22 19:52:38.290347: I external/local_tsl/tsl/framework/bfc_allocator.cc:1095] InUse at 746b32328000 of size 12288000 next 113\n",
      "2024-06-22 19:52:38.290355: I external/local_tsl/tsl/framework/bfc_allocator.cc:1095] Free  at 746b32ee0000 of size 6291456 next 126\n",
      "2024-06-22 19:52:38.290364: I external/local_tsl/tsl/framework/bfc_allocator.cc:1095] InUse at 746b334e0000 of size 8519680 next 18446744073709551615\n",
      "2024-06-22 19:52:38.290372: I external/local_tsl/tsl/framework/bfc_allocator.cc:1075] Next region of size 33554432\n",
      "2024-06-22 19:52:38.290380: I external/local_tsl/tsl/framework/bfc_allocator.cc:1095] InUse at 746b39e00000 of size 2359296 next 104\n",
      "2024-06-22 19:52:38.290389: I external/local_tsl/tsl/framework/bfc_allocator.cc:1095] InUse at 746b3a040000 of size 7077888 next 65\n",
      "2024-06-22 19:52:38.290397: I external/local_tsl/tsl/framework/bfc_allocator.cc:1095] InUse at 746b3a700000 of size 9437184 next 63\n",
      "2024-06-22 19:52:38.290406: I external/local_tsl/tsl/framework/bfc_allocator.cc:1095] InUse at 746b3b000000 of size 14680064 next 18446744073709551615\n",
      "2024-06-22 19:52:38.290414: I external/local_tsl/tsl/framework/bfc_allocator.cc:1075] Next region of size 16777216\n",
      "2024-06-22 19:52:38.290422: I external/local_tsl/tsl/framework/bfc_allocator.cc:1095] InUse at 746b7c600000 of size 4718592 next 107\n",
      "2024-06-22 19:52:38.290430: I external/local_tsl/tsl/framework/bfc_allocator.cc:1095] Free  at 746b7ca80000 of size 4718592 next 61\n",
      "2024-06-22 19:52:38.290439: I external/local_tsl/tsl/framework/bfc_allocator.cc:1095] InUse at 746b7cf00000 of size 7340032 next 18446744073709551615\n",
      "2024-06-22 19:52:38.290447: I external/local_tsl/tsl/framework/bfc_allocator.cc:1075] Next region of size 8388608\n",
      "2024-06-22 19:52:38.290455: I external/local_tsl/tsl/framework/bfc_allocator.cc:1095] InUse at 746b7f600000 of size 1179648 next 51\n",
      "2024-06-22 19:52:38.290463: I external/local_tsl/tsl/framework/bfc_allocator.cc:1095] InUse at 746b7f720000 of size 589824 next 97\n",
      "2024-06-22 19:52:38.290472: I external/local_tsl/tsl/framework/bfc_allocator.cc:1095] InUse at 746b7f7b0000 of size 589824 next 98\n",
      "2024-06-22 19:52:38.290480: I external/local_tsl/tsl/framework/bfc_allocator.cc:1095] InUse at 746b7f840000 of size 1179648 next 55\n",
      "2024-06-22 19:52:38.290488: I external/local_tsl/tsl/framework/bfc_allocator.cc:1095] InUse at 746b7f960000 of size 2359296 next 54\n",
      "2024-06-22 19:52:38.290496: I external/local_tsl/tsl/framework/bfc_allocator.cc:1095] InUse at 746b7fba0000 of size 1179648 next 101\n",
      "2024-06-22 19:52:38.290504: I external/local_tsl/tsl/framework/bfc_allocator.cc:1095] Free  at 746b7fcc0000 of size 1310720 next 18446744073709551615\n",
      "2024-06-22 19:52:38.290512: I external/local_tsl/tsl/framework/bfc_allocator.cc:1075] Next region of size 4194304\n",
      "2024-06-22 19:52:38.290521: I external/local_tsl/tsl/framework/bfc_allocator.cc:1095] InUse at 746bd0200000 of size 228096 next 75\n",
      "2024-06-22 19:52:38.290529: I external/local_tsl/tsl/framework/bfc_allocator.cc:1095] InUse at 746bd0237b00 of size 361728 next 45\n",
      "2024-06-22 19:52:38.290537: I external/local_tsl/tsl/framework/bfc_allocator.cc:1095] InUse at 746bd0290000 of size 589824 next 43\n",
      "2024-06-22 19:52:38.290546: I external/local_tsl/tsl/framework/bfc_allocator.cc:1095] InUse at 746bd0320000 of size 3014656 next 18446744073709551615\n",
      "2024-06-22 19:52:38.290553: I external/local_tsl/tsl/framework/bfc_allocator.cc:1075] Next region of size 2097152\n",
      "2024-06-22 19:52:38.290562: I external/local_tsl/tsl/framework/bfc_allocator.cc:1095] InUse at 746bf4400000 of size 1280 next 1\n",
      "2024-06-22 19:52:38.290570: I external/local_tsl/tsl/framework/bfc_allocator.cc:1095] InUse at 746bf4400500 of size 256 next 2\n",
      "2024-06-22 19:52:38.290579: I external/local_tsl/tsl/framework/bfc_allocator.cc:1095] InUse at 746bf4400600 of size 256 next 3\n",
      "2024-06-22 19:52:38.290587: I external/local_tsl/tsl/framework/bfc_allocator.cc:1095] InUse at 746bf4400700 of size 256 next 4\n",
      "2024-06-22 19:52:38.290595: I external/local_tsl/tsl/framework/bfc_allocator.cc:1095] InUse at 746bf4400800 of size 256 next 5\n",
      "2024-06-22 19:52:38.290604: I external/local_tsl/tsl/framework/bfc_allocator.cc:1095] InUse at 746bf4400900 of size 256 next 6\n",
      "2024-06-22 19:52:38.290612: I external/local_tsl/tsl/framework/bfc_allocator.cc:1095] InUse at 746bf4400a00 of size 256 next 7\n",
      "2024-06-22 19:52:38.290620: I external/local_tsl/tsl/framework/bfc_allocator.cc:1095] InUse at 746bf4400b00 of size 256 next 8\n",
      "2024-06-22 19:52:38.290629: I external/local_tsl/tsl/framework/bfc_allocator.cc:1095] InUse at 746bf4400c00 of size 256 next 9\n",
      "2024-06-22 19:52:38.290637: I external/local_tsl/tsl/framework/bfc_allocator.cc:1095] InUse at 746bf4400d00 of size 256 next 10\n",
      "2024-06-22 19:52:38.290645: I external/local_tsl/tsl/framework/bfc_allocator.cc:1095] InUse at 746bf4400e00 of size 256 next 11\n",
      "2024-06-22 19:52:38.290653: I external/local_tsl/tsl/framework/bfc_allocator.cc:1095] InUse at 746bf4400f00 of size 256 next 12\n",
      "2024-06-22 19:52:38.290662: I external/local_tsl/tsl/framework/bfc_allocator.cc:1095] InUse at 746bf4401000 of size 256 next 13\n",
      "2024-06-22 19:52:38.290670: I external/local_tsl/tsl/framework/bfc_allocator.cc:1095] InUse at 746bf4401100 of size 256 next 14\n",
      "2024-06-22 19:52:38.290678: I external/local_tsl/tsl/framework/bfc_allocator.cc:1095] InUse at 746bf4401200 of size 256 next 16\n",
      "2024-06-22 19:52:38.290686: I external/local_tsl/tsl/framework/bfc_allocator.cc:1095] InUse at 746bf4401300 of size 256 next 17\n",
      "2024-06-22 19:52:38.290695: I external/local_tsl/tsl/framework/bfc_allocator.cc:1095] InUse at 746bf4401400 of size 256 next 15\n",
      "2024-06-22 19:52:38.290703: I external/local_tsl/tsl/framework/bfc_allocator.cc:1095] InUse at 746bf4401500 of size 256 next 18\n",
      "2024-06-22 19:52:38.290711: I external/local_tsl/tsl/framework/bfc_allocator.cc:1095] InUse at 746bf4401600 of size 256 next 23\n",
      "2024-06-22 19:52:38.290719: I external/local_tsl/tsl/framework/bfc_allocator.cc:1095] InUse at 746bf4401700 of size 256 next 21\n",
      "2024-06-22 19:52:38.290728: I external/local_tsl/tsl/framework/bfc_allocator.cc:1095] InUse at 746bf4401800 of size 256 next 22\n",
      "2024-06-22 19:52:38.290736: I external/local_tsl/tsl/framework/bfc_allocator.cc:1095] InUse at 746bf4401900 of size 256 next 26\n",
      "2024-06-22 19:52:38.290744: I external/local_tsl/tsl/framework/bfc_allocator.cc:1095] InUse at 746bf4401a00 of size 256 next 27\n",
      "2024-06-22 19:52:38.290752: I external/local_tsl/tsl/framework/bfc_allocator.cc:1095] InUse at 746bf4401b00 of size 256 next 30\n",
      "2024-06-22 19:52:38.290760: I external/local_tsl/tsl/framework/bfc_allocator.cc:1095] InUse at 746bf4401c00 of size 256 next 33\n",
      "2024-06-22 19:52:38.290769: I external/local_tsl/tsl/framework/bfc_allocator.cc:1095] InUse at 746bf4401d00 of size 256 next 31\n",
      "2024-06-22 19:52:38.290777: I external/local_tsl/tsl/framework/bfc_allocator.cc:1095] InUse at 746bf4401e00 of size 256 next 32\n",
      "2024-06-22 19:52:38.290785: I external/local_tsl/tsl/framework/bfc_allocator.cc:1095] InUse at 746bf4401f00 of size 512 next 36\n",
      "2024-06-22 19:52:38.290794: I external/local_tsl/tsl/framework/bfc_allocator.cc:1095] InUse at 746bf4402100 of size 256 next 37\n",
      "2024-06-22 19:52:38.290802: I external/local_tsl/tsl/framework/bfc_allocator.cc:1095] InUse at 746bf4402200 of size 256 next 40\n",
      "2024-06-22 19:52:38.290810: I external/local_tsl/tsl/framework/bfc_allocator.cc:1095] InUse at 746bf4402300 of size 512 next 41\n",
      "2024-06-22 19:52:38.290818: I external/local_tsl/tsl/framework/bfc_allocator.cc:1095] InUse at 746bf4402500 of size 256 next 42\n",
      "2024-06-22 19:52:38.290827: I external/local_tsl/tsl/framework/bfc_allocator.cc:1095] InUse at 746bf4402600 of size 256 next 46\n",
      "2024-06-22 19:52:38.290835: I external/local_tsl/tsl/framework/bfc_allocator.cc:1095] InUse at 746bf4402700 of size 1024 next 49\n",
      "2024-06-22 19:52:38.290843: I external/local_tsl/tsl/framework/bfc_allocator.cc:1095] InUse at 746bf4402b00 of size 256 next 47\n",
      "2024-06-22 19:52:38.290852: I external/local_tsl/tsl/framework/bfc_allocator.cc:1095] InUse at 746bf4402c00 of size 256 next 48\n",
      "2024-06-22 19:52:38.290860: I external/local_tsl/tsl/framework/bfc_allocator.cc:1095] InUse at 746bf4402d00 of size 1024 next 19\n",
      "2024-06-22 19:52:38.290868: I external/local_tsl/tsl/framework/bfc_allocator.cc:1095] InUse at 746bf4403100 of size 3584 next 20\n",
      "2024-06-22 19:52:38.290877: I external/local_tsl/tsl/framework/bfc_allocator.cc:1095] InUse at 746bf4403f00 of size 256 next 52\n",
      "2024-06-22 19:52:38.290885: I external/local_tsl/tsl/framework/bfc_allocator.cc:1095] InUse at 746bf4404000 of size 256 next 53\n",
      "2024-06-22 19:52:38.290896: I external/local_tsl/tsl/framework/bfc_allocator.cc:1095] InUse at 746bf4404100 of size 2048 next 59\n",
      "2024-06-22 19:52:38.290907: I external/local_tsl/tsl/framework/bfc_allocator.cc:1095] InUse at 746bf4404900 of size 256 next 56\n",
      "2024-06-22 19:52:38.290917: I external/local_tsl/tsl/framework/bfc_allocator.cc:1095] InUse at 746bf4404a00 of size 256 next 57\n",
      "2024-06-22 19:52:38.290927: I external/local_tsl/tsl/framework/bfc_allocator.cc:1095] InUse at 746bf4404b00 of size 2048 next 60\n",
      "2024-06-22 19:52:38.290938: I external/local_tsl/tsl/framework/bfc_allocator.cc:1095] InUse at 746bf4405300 of size 256 next 62\n",
      "2024-06-22 19:52:38.290949: I external/local_tsl/tsl/framework/bfc_allocator.cc:1095] InUse at 746bf4405400 of size 256 next 66\n",
      "2024-06-22 19:52:38.290959: I external/local_tsl/tsl/framework/bfc_allocator.cc:1095] InUse at 746bf4405500 of size 6144 next 67\n",
      "2024-06-22 19:52:38.290972: I external/local_tsl/tsl/framework/bfc_allocator.cc:1095] InUse at 746bf4406d00 of size 256 next 68\n",
      "2024-06-22 19:52:38.290983: I external/local_tsl/tsl/framework/bfc_allocator.cc:1095] InUse at 746bf4406e00 of size 256 next 72\n",
      "2024-06-22 19:52:38.290994: I external/local_tsl/tsl/framework/bfc_allocator.cc:1095] InUse at 746bf4406f00 of size 256 next 73\n",
      "2024-06-22 19:52:38.291004: I external/local_tsl/tsl/framework/bfc_allocator.cc:1095] InUse at 746bf4407000 of size 256 next 74\n",
      "2024-06-22 19:52:38.291015: I external/local_tsl/tsl/framework/bfc_allocator.cc:1095] InUse at 746bf4407100 of size 256 next 76\n",
      "2024-06-22 19:52:38.291025: I external/local_tsl/tsl/framework/bfc_allocator.cc:1095] InUse at 746bf4407200 of size 256 next 77\n",
      "2024-06-22 19:52:38.291036: I external/local_tsl/tsl/framework/bfc_allocator.cc:1095] InUse at 746bf4407300 of size 256 next 78\n",
      "2024-06-22 19:52:38.291047: I external/local_tsl/tsl/framework/bfc_allocator.cc:1095] InUse at 746bf4407400 of size 256 next 79\n",
      "2024-06-22 19:52:38.291057: I external/local_tsl/tsl/framework/bfc_allocator.cc:1095] InUse at 746bf4407500 of size 3584 next 80\n",
      "2024-06-22 19:52:38.291067: I external/local_tsl/tsl/framework/bfc_allocator.cc:1095] InUse at 746bf4408300 of size 3584 next 81\n",
      "2024-06-22 19:52:38.291078: I external/local_tsl/tsl/framework/bfc_allocator.cc:1095] InUse at 746bf4409100 of size 256 next 82\n",
      "2024-06-22 19:52:38.291089: I external/local_tsl/tsl/framework/bfc_allocator.cc:1095] InUse at 746bf4409200 of size 256 next 83\n",
      "2024-06-22 19:52:38.291100: I external/local_tsl/tsl/framework/bfc_allocator.cc:1095] InUse at 746bf4409300 of size 52224 next 25\n",
      "2024-06-22 19:52:38.291111: I external/local_tsl/tsl/framework/bfc_allocator.cc:1095] InUse at 746bf4415f00 of size 36864 next 24\n",
      "2024-06-22 19:52:38.291122: I external/local_tsl/tsl/framework/bfc_allocator.cc:1095] InUse at 746bf441ef00 of size 36864 next 84\n",
      "2024-06-22 19:52:38.291133: I external/local_tsl/tsl/framework/bfc_allocator.cc:1095] InUse at 746bf4427f00 of size 256 next 85\n",
      "2024-06-22 19:52:38.291144: I external/local_tsl/tsl/framework/bfc_allocator.cc:1095] InUse at 746bf4428000 of size 256 next 86\n",
      "2024-06-22 19:52:38.291155: I external/local_tsl/tsl/framework/bfc_allocator.cc:1095] InUse at 746bf4428100 of size 256 next 89\n",
      "2024-06-22 19:52:38.291166: I external/local_tsl/tsl/framework/bfc_allocator.cc:1095] InUse at 746bf4428200 of size 256 next 90\n",
      "2024-06-22 19:52:38.291177: I external/local_tsl/tsl/framework/bfc_allocator.cc:1095] InUse at 746bf4428300 of size 256 next 92\n",
      "2024-06-22 19:52:38.291188: I external/local_tsl/tsl/framework/bfc_allocator.cc:1095] InUse at 746bf4428400 of size 256 next 93\n",
      "2024-06-22 19:52:38.291199: I external/local_tsl/tsl/framework/bfc_allocator.cc:1095] InUse at 746bf4428500 of size 512 next 95\n",
      "2024-06-22 19:52:38.291210: I external/local_tsl/tsl/framework/bfc_allocator.cc:1095] InUse at 746bf4428700 of size 512 next 96\n",
      "2024-06-22 19:52:38.291220: I external/local_tsl/tsl/framework/bfc_allocator.cc:1095] InUse at 746bf4428900 of size 512 next 99\n",
      "2024-06-22 19:52:38.291231: I external/local_tsl/tsl/framework/bfc_allocator.cc:1095] InUse at 746bf4428b00 of size 512 next 100\n",
      "2024-06-22 19:52:38.291242: I external/local_tsl/tsl/framework/bfc_allocator.cc:1095] InUse at 746bf4428d00 of size 1024 next 102\n",
      "2024-06-22 19:52:38.291252: I external/local_tsl/tsl/framework/bfc_allocator.cc:1095] InUse at 746bf4429100 of size 1024 next 103\n",
      "2024-06-22 19:52:38.291262: I external/local_tsl/tsl/framework/bfc_allocator.cc:1095] InUse at 746bf4429500 of size 1024 next 105\n",
      "2024-06-22 19:52:38.291273: I external/local_tsl/tsl/framework/bfc_allocator.cc:1095] InUse at 746bf4429900 of size 1024 next 106\n",
      "2024-06-22 19:52:38.291283: I external/local_tsl/tsl/framework/bfc_allocator.cc:1095] InUse at 746bf4429d00 of size 2048 next 108\n",
      "2024-06-22 19:52:38.291293: I external/local_tsl/tsl/framework/bfc_allocator.cc:1095] InUse at 746bf442a500 of size 2048 next 109\n",
      "2024-06-22 19:52:38.291304: I external/local_tsl/tsl/framework/bfc_allocator.cc:1095] InUse at 746bf442ad00 of size 2048 next 110\n",
      "2024-06-22 19:52:38.291314: I external/local_tsl/tsl/framework/bfc_allocator.cc:1095] InUse at 746bf442b500 of size 2048 next 111\n",
      "2024-06-22 19:52:38.291324: I external/local_tsl/tsl/framework/bfc_allocator.cc:1095] InUse at 746bf442bd00 of size 6144 next 114\n",
      "2024-06-22 19:52:38.291334: I external/local_tsl/tsl/framework/bfc_allocator.cc:1095] InUse at 746bf442d500 of size 6144 next 115\n",
      "2024-06-22 19:52:38.291345: I external/local_tsl/tsl/framework/bfc_allocator.cc:1095] InUse at 746bf442ed00 of size 256 next 117\n",
      "2024-06-22 19:52:38.291355: I external/local_tsl/tsl/framework/bfc_allocator.cc:1095] InUse at 746bf442ee00 of size 256 next 118\n",
      "2024-06-22 19:52:38.291366: I external/local_tsl/tsl/framework/bfc_allocator.cc:1095] InUse at 746bf442ef00 of size 256 next 119\n",
      "2024-06-22 19:52:38.291377: I external/local_tsl/tsl/framework/bfc_allocator.cc:1095] InUse at 746bf442f000 of size 256 next 120\n",
      "2024-06-22 19:52:38.291387: I external/local_tsl/tsl/framework/bfc_allocator.cc:1095] InUse at 746bf442f100 of size 256 next 121\n",
      "2024-06-22 19:52:38.291398: I external/local_tsl/tsl/framework/bfc_allocator.cc:1095] InUse at 746bf442f200 of size 256 next 122\n",
      "2024-06-22 19:52:38.291408: I external/local_tsl/tsl/framework/bfc_allocator.cc:1095] InUse at 746bf442f300 of size 256 next 123\n",
      "2024-06-22 19:52:38.291418: I external/local_tsl/tsl/framework/bfc_allocator.cc:1095] InUse at 746bf442f400 of size 256 next 124\n",
      "2024-06-22 19:52:38.291429: I external/local_tsl/tsl/framework/bfc_allocator.cc:1095] InUse at 746bf442f500 of size 256 next 125\n",
      "2024-06-22 19:52:38.291439: I external/local_tsl/tsl/framework/bfc_allocator.cc:1095] InUse at 746bf442f600 of size 6400 next 29\n",
      "2024-06-22 19:52:38.291450: I external/local_tsl/tsl/framework/bfc_allocator.cc:1095] InUse at 746bf4430f00 of size 73728 next 28\n",
      "2024-06-22 19:52:38.291462: I external/local_tsl/tsl/framework/bfc_allocator.cc:1095] InUse at 746bf4442f00 of size 73728 next 87\n",
      "2024-06-22 19:52:38.291472: I external/local_tsl/tsl/framework/bfc_allocator.cc:1095] InUse at 746bf4454f00 of size 73728 next 88\n",
      "2024-06-22 19:52:38.291484: I external/local_tsl/tsl/framework/bfc_allocator.cc:1095] InUse at 746bf4466f00 of size 147456 next 35\n",
      "2024-06-22 19:52:38.291493: I external/local_tsl/tsl/framework/bfc_allocator.cc:1095] InUse at 746bf448af00 of size 147456 next 34\n",
      "2024-06-22 19:52:38.291501: I external/local_tsl/tsl/framework/bfc_allocator.cc:1095] InUse at 746bf44aef00 of size 147456 next 91\n",
      "2024-06-22 19:52:38.291509: I external/local_tsl/tsl/framework/bfc_allocator.cc:1095] Free  at 746bf44d2f00 of size 256 next 127\n",
      "2024-06-22 19:52:38.291518: I external/local_tsl/tsl/framework/bfc_allocator.cc:1095] InUse at 746bf44d3000 of size 256 next 128\n",
      "2024-06-22 19:52:38.291526: I external/local_tsl/tsl/framework/bfc_allocator.cc:1095] InUse at 746bf44d3100 of size 256 next 129\n",
      "2024-06-22 19:52:38.291534: I external/local_tsl/tsl/framework/bfc_allocator.cc:1095] Free  at 746bf44d3200 of size 146688 next 39\n",
      "2024-06-22 19:52:38.291542: I external/local_tsl/tsl/framework/bfc_allocator.cc:1095] InUse at 746bf44f6f00 of size 294912 next 38\n",
      "2024-06-22 19:52:38.291550: I external/local_tsl/tsl/framework/bfc_allocator.cc:1095] InUse at 746bf453ef00 of size 294912 next 94\n",
      "2024-06-22 19:52:38.291558: I external/local_tsl/tsl/framework/bfc_allocator.cc:1095] InUse at 746bf4586f00 of size 228096 next 116\n",
      "2024-06-22 19:52:38.291567: I external/local_tsl/tsl/framework/bfc_allocator.cc:1095] InUse at 746bf45bea00 of size 267776 next 18446744073709551615\n",
      "2024-06-22 19:52:38.291575: I external/local_tsl/tsl/framework/bfc_allocator.cc:1100]      Summary of in-use Chunks by size: \n",
      "2024-06-22 19:52:38.291600: I external/local_tsl/tsl/framework/bfc_allocator.cc:1103] 65 Chunks of size 256 totalling 16.2KiB\n",
      "2024-06-22 19:52:38.291609: I external/local_tsl/tsl/framework/bfc_allocator.cc:1103] 6 Chunks of size 512 totalling 3.0KiB\n",
      "2024-06-22 19:52:38.291618: I external/local_tsl/tsl/framework/bfc_allocator.cc:1103] 6 Chunks of size 1024 totalling 6.0KiB\n",
      "2024-06-22 19:52:38.291627: I external/local_tsl/tsl/framework/bfc_allocator.cc:1103] 1 Chunks of size 1280 totalling 1.2KiB\n",
      "2024-06-22 19:52:38.291636: I external/local_tsl/tsl/framework/bfc_allocator.cc:1103] 6 Chunks of size 2048 totalling 12.0KiB\n",
      "2024-06-22 19:52:38.291645: I external/local_tsl/tsl/framework/bfc_allocator.cc:1103] 3 Chunks of size 3584 totalling 10.5KiB\n",
      "2024-06-22 19:52:38.291654: I external/local_tsl/tsl/framework/bfc_allocator.cc:1103] 3 Chunks of size 6144 totalling 18.0KiB\n",
      "2024-06-22 19:52:38.291663: I external/local_tsl/tsl/framework/bfc_allocator.cc:1103] 1 Chunks of size 6400 totalling 6.2KiB\n",
      "2024-06-22 19:52:38.291672: I external/local_tsl/tsl/framework/bfc_allocator.cc:1103] 2 Chunks of size 36864 totalling 72.0KiB\n",
      "2024-06-22 19:52:38.291681: I external/local_tsl/tsl/framework/bfc_allocator.cc:1103] 1 Chunks of size 52224 totalling 51.0KiB\n",
      "2024-06-22 19:52:38.291690: I external/local_tsl/tsl/framework/bfc_allocator.cc:1103] 3 Chunks of size 73728 totalling 216.0KiB\n",
      "2024-06-22 19:52:38.291699: I external/local_tsl/tsl/framework/bfc_allocator.cc:1103] 3 Chunks of size 147456 totalling 432.0KiB\n",
      "2024-06-22 19:52:38.291708: I external/local_tsl/tsl/framework/bfc_allocator.cc:1103] 2 Chunks of size 228096 totalling 445.5KiB\n",
      "2024-06-22 19:52:38.291717: I external/local_tsl/tsl/framework/bfc_allocator.cc:1103] 1 Chunks of size 267776 totalling 261.5KiB\n",
      "2024-06-22 19:52:38.291726: I external/local_tsl/tsl/framework/bfc_allocator.cc:1103] 2 Chunks of size 294912 totalling 576.0KiB\n",
      "2024-06-22 19:52:38.291735: I external/local_tsl/tsl/framework/bfc_allocator.cc:1103] 1 Chunks of size 361728 totalling 353.2KiB\n",
      "2024-06-22 19:52:38.291744: I external/local_tsl/tsl/framework/bfc_allocator.cc:1103] 3 Chunks of size 589824 totalling 1.69MiB\n",
      "2024-06-22 19:52:38.291753: I external/local_tsl/tsl/framework/bfc_allocator.cc:1103] 3 Chunks of size 1179648 totalling 3.38MiB\n",
      "2024-06-22 19:52:38.291762: I external/local_tsl/tsl/framework/bfc_allocator.cc:1103] 2 Chunks of size 2359296 totalling 4.50MiB\n",
      "2024-06-22 19:52:38.291770: I external/local_tsl/tsl/framework/bfc_allocator.cc:1103] 1 Chunks of size 3014656 totalling 2.88MiB\n",
      "2024-06-22 19:52:38.291779: I external/local_tsl/tsl/framework/bfc_allocator.cc:1103] 1 Chunks of size 4718592 totalling 4.50MiB\n",
      "2024-06-22 19:52:38.291788: I external/local_tsl/tsl/framework/bfc_allocator.cc:1103] 1 Chunks of size 7077888 totalling 6.75MiB\n",
      "2024-06-22 19:52:38.291796: I external/local_tsl/tsl/framework/bfc_allocator.cc:1103] 1 Chunks of size 7340032 totalling 7.00MiB\n",
      "2024-06-22 19:52:38.291805: I external/local_tsl/tsl/framework/bfc_allocator.cc:1103] 1 Chunks of size 8519680 totalling 8.12MiB\n",
      "2024-06-22 19:52:38.291814: I external/local_tsl/tsl/framework/bfc_allocator.cc:1103] 1 Chunks of size 9437184 totalling 9.00MiB\n",
      "2024-06-22 19:52:38.291825: I external/local_tsl/tsl/framework/bfc_allocator.cc:1103] 4 Chunks of size 12288000 totalling 46.88MiB\n",
      "2024-06-22 19:52:38.291837: I external/local_tsl/tsl/framework/bfc_allocator.cc:1103] 1 Chunks of size 14680064 totalling 14.00MiB\n",
      "2024-06-22 19:52:38.291849: I external/local_tsl/tsl/framework/bfc_allocator.cc:1107] Sum Total of in-use chunks: 111.11MiB\n",
      "2024-06-22 19:52:38.291861: I external/local_tsl/tsl/framework/bfc_allocator.cc:1109] Total bytes in pool: 128974848 memory_limit_: 128974848 available bytes: 0 curr_region_allocation_bytes_: 134217728\n",
      "2024-06-22 19:52:38.291877: I external/local_tsl/tsl/framework/bfc_allocator.cc:1114] Stats: \n",
      "Limit:                       128974848\n",
      "InUse:                       116507136\n",
      "MaxInUse:                    122798848\n",
      "NumAllocs:                         199\n",
      "MaxAllocSize:                 14680064\n",
      "Reserved:                            0\n",
      "PeakReserved:                        0\n",
      "LargestFreeBlock:                    0\n",
      "\n",
      "2024-06-22 19:52:38.291896: W external/local_tsl/tsl/framework/bfc_allocator.cc:497] ********x******************************___******x***********************xxx*****__*****x************\n",
      "2024-06-22 19:52:38.291925: W tensorflow/core/framework/op_kernel.cc:1839] OP_REQUIRES failed at conv_ops_impl.h:679 : RESOURCE_EXHAUSTED: OOM when allocating tensor with shape[32,32,128,128] and type float on /job:localhost/replica:0/task:0/device:GPU:0 by allocator GPU_0_bfc\n"
     ]
    },
    {
     "ename": "ResourceExhaustedError",
     "evalue": "Graph execution error:\n\nDetected at node sequential/conv2d/Conv2D defined at (most recent call last):\n  File \"/usr/lib/python3.10/runpy.py\", line 196, in _run_module_as_main\n\n  File \"/usr/lib/python3.10/runpy.py\", line 86, in _run_code\n\n  File \"/home/dori/.local/lib/python3.10/site-packages/ipykernel_launcher.py\", line 18, in <module>\n\n  File \"/home/dori/.local/lib/python3.10/site-packages/traitlets/config/application.py\", line 1075, in launch_instance\n\n  File \"/home/dori/.local/lib/python3.10/site-packages/ipykernel/kernelapp.py\", line 739, in start\n\n  File \"/home/dori/.local/lib/python3.10/site-packages/tornado/platform/asyncio.py\", line 205, in start\n\n  File \"/usr/lib/python3.10/asyncio/base_events.py\", line 603, in run_forever\n\n  File \"/usr/lib/python3.10/asyncio/base_events.py\", line 1909, in _run_once\n\n  File \"/usr/lib/python3.10/asyncio/events.py\", line 80, in _run\n\n  File \"/home/dori/.local/lib/python3.10/site-packages/ipykernel/kernelbase.py\", line 545, in dispatch_queue\n\n  File \"/home/dori/.local/lib/python3.10/site-packages/ipykernel/kernelbase.py\", line 534, in process_one\n\n  File \"/home/dori/.local/lib/python3.10/site-packages/ipykernel/kernelbase.py\", line 437, in dispatch_shell\n\n  File \"/home/dori/.local/lib/python3.10/site-packages/ipykernel/ipkernel.py\", line 362, in execute_request\n\n  File \"/home/dori/.local/lib/python3.10/site-packages/ipykernel/kernelbase.py\", line 778, in execute_request\n\n  File \"/home/dori/.local/lib/python3.10/site-packages/ipykernel/ipkernel.py\", line 449, in do_execute\n\n  File \"/home/dori/.local/lib/python3.10/site-packages/ipykernel/zmqshell.py\", line 549, in run_cell\n\n  File \"/home/dori/.local/lib/python3.10/site-packages/IPython/core/interactiveshell.py\", line 3075, in run_cell\n\n  File \"/home/dori/.local/lib/python3.10/site-packages/IPython/core/interactiveshell.py\", line 3130, in _run_cell\n\n  File \"/home/dori/.local/lib/python3.10/site-packages/IPython/core/async_helpers.py\", line 129, in _pseudo_sync_runner\n\n  File \"/home/dori/.local/lib/python3.10/site-packages/IPython/core/interactiveshell.py\", line 3334, in run_cell_async\n\n  File \"/home/dori/.local/lib/python3.10/site-packages/IPython/core/interactiveshell.py\", line 3517, in run_ast_nodes\n\n  File \"/home/dori/.local/lib/python3.10/site-packages/IPython/core/interactiveshell.py\", line 3577, in run_code\n\n  File \"/tmp/ipykernel_19641/586409612.py\", line 1, in <module>\n\n  File \"/home/dori/.local/lib/python3.10/site-packages/keras/src/utils/traceback_utils.py\", line 65, in error_handler\n\n  File \"/home/dori/.local/lib/python3.10/site-packages/keras/src/engine/training.py\", line 1807, in fit\n\n  File \"/home/dori/.local/lib/python3.10/site-packages/keras/src/engine/training.py\", line 1401, in train_function\n\n  File \"/home/dori/.local/lib/python3.10/site-packages/keras/src/engine/training.py\", line 1384, in step_function\n\n  File \"/home/dori/.local/lib/python3.10/site-packages/keras/src/engine/training.py\", line 1373, in run_step\n\n  File \"/home/dori/.local/lib/python3.10/site-packages/keras/src/engine/training.py\", line 1150, in train_step\n\n  File \"/home/dori/.local/lib/python3.10/site-packages/keras/src/utils/traceback_utils.py\", line 65, in error_handler\n\n  File \"/home/dori/.local/lib/python3.10/site-packages/keras/src/engine/training.py\", line 590, in __call__\n\n  File \"/home/dori/.local/lib/python3.10/site-packages/keras/src/utils/traceback_utils.py\", line 65, in error_handler\n\n  File \"/home/dori/.local/lib/python3.10/site-packages/keras/src/engine/base_layer.py\", line 1149, in __call__\n\n  File \"/home/dori/.local/lib/python3.10/site-packages/keras/src/utils/traceback_utils.py\", line 96, in error_handler\n\n  File \"/home/dori/.local/lib/python3.10/site-packages/keras/src/engine/sequential.py\", line 398, in call\n\n  File \"/home/dori/.local/lib/python3.10/site-packages/keras/src/engine/functional.py\", line 515, in call\n\n  File \"/home/dori/.local/lib/python3.10/site-packages/keras/src/engine/functional.py\", line 672, in _run_internal_graph\n\n  File \"/home/dori/.local/lib/python3.10/site-packages/keras/src/utils/traceback_utils.py\", line 65, in error_handler\n\n  File \"/home/dori/.local/lib/python3.10/site-packages/keras/src/engine/base_layer.py\", line 1149, in __call__\n\n  File \"/home/dori/.local/lib/python3.10/site-packages/keras/src/utils/traceback_utils.py\", line 96, in error_handler\n\n  File \"/home/dori/.local/lib/python3.10/site-packages/keras/src/layers/convolutional/base_conv.py\", line 290, in call\n\n  File \"/home/dori/.local/lib/python3.10/site-packages/keras/src/layers/convolutional/base_conv.py\", line 262, in convolution_op\n\nOOM when allocating tensor with shape[32,32,128,128] and type float on /job:localhost/replica:0/task:0/device:GPU:0 by allocator GPU_0_bfc\n\t [[{{node sequential/conv2d/Conv2D}}]]\nHint: If you want to see a list of allocated tensors when OOM happens, add report_tensor_allocations_upon_oom to RunOptions for current allocation info. This isn't available when running in Eager mode.\n [Op:__inference_train_function_2810]",
     "output_type": "error",
     "traceback": [
      "\u001b[0;31m---------------------------------------------------------------------------\u001b[0m",
      "\u001b[0;31mResourceExhaustedError\u001b[0m                    Traceback (most recent call last)",
      "Cell \u001b[0;32mIn[15], line 1\u001b[0m\n\u001b[0;32m----> 1\u001b[0m training_history \u001b[38;5;241m=\u001b[39m \u001b[43mmodel\u001b[49m\u001b[38;5;241;43m.\u001b[39;49m\u001b[43mfit\u001b[49m\u001b[43m(\u001b[49m\u001b[43mx\u001b[49m\u001b[38;5;241;43m=\u001b[39;49m\u001b[43mtraining_imgs\u001b[49m\u001b[43m,\u001b[49m\u001b[43m \u001b[49m\u001b[43mvalidation_data\u001b[49m\u001b[38;5;241;43m=\u001b[39;49m\u001b[43mvalid_imgs\u001b[49m\u001b[43m,\u001b[49m\u001b[43m \u001b[49m\u001b[43mepochs\u001b[49m\u001b[38;5;241;43m=\u001b[39;49m\u001b[38;5;241;43m10\u001b[39;49m\u001b[43m,\u001b[49m\u001b[43m \u001b[49m\u001b[43mbatch_size\u001b[49m\u001b[38;5;241;43m=\u001b[39;49m\u001b[38;5;241;43m16\u001b[39;49m\u001b[43m)\u001b[49m\n",
      "File \u001b[0;32m~/.local/lib/python3.10/site-packages/keras/src/utils/traceback_utils.py:70\u001b[0m, in \u001b[0;36mfilter_traceback.<locals>.error_handler\u001b[0;34m(*args, **kwargs)\u001b[0m\n\u001b[1;32m     67\u001b[0m     filtered_tb \u001b[38;5;241m=\u001b[39m _process_traceback_frames(e\u001b[38;5;241m.\u001b[39m__traceback__)\n\u001b[1;32m     68\u001b[0m     \u001b[38;5;66;03m# To get the full stack trace, call:\u001b[39;00m\n\u001b[1;32m     69\u001b[0m     \u001b[38;5;66;03m# `tf.debugging.disable_traceback_filtering()`\u001b[39;00m\n\u001b[0;32m---> 70\u001b[0m     \u001b[38;5;28;01mraise\u001b[39;00m e\u001b[38;5;241m.\u001b[39mwith_traceback(filtered_tb) \u001b[38;5;28;01mfrom\u001b[39;00m \u001b[38;5;28;01mNone\u001b[39;00m\n\u001b[1;32m     71\u001b[0m \u001b[38;5;28;01mfinally\u001b[39;00m:\n\u001b[1;32m     72\u001b[0m     \u001b[38;5;28;01mdel\u001b[39;00m filtered_tb\n",
      "File \u001b[0;32m~/.local/lib/python3.10/site-packages/tensorflow/python/eager/execute.py:53\u001b[0m, in \u001b[0;36mquick_execute\u001b[0;34m(op_name, num_outputs, inputs, attrs, ctx, name)\u001b[0m\n\u001b[1;32m     51\u001b[0m \u001b[38;5;28;01mtry\u001b[39;00m:\n\u001b[1;32m     52\u001b[0m   ctx\u001b[38;5;241m.\u001b[39mensure_initialized()\n\u001b[0;32m---> 53\u001b[0m   tensors \u001b[38;5;241m=\u001b[39m pywrap_tfe\u001b[38;5;241m.\u001b[39mTFE_Py_Execute(ctx\u001b[38;5;241m.\u001b[39m_handle, device_name, op_name,\n\u001b[1;32m     54\u001b[0m                                       inputs, attrs, num_outputs)\n\u001b[1;32m     55\u001b[0m \u001b[38;5;28;01mexcept\u001b[39;00m core\u001b[38;5;241m.\u001b[39m_NotOkStatusException \u001b[38;5;28;01mas\u001b[39;00m e:\n\u001b[1;32m     56\u001b[0m   \u001b[38;5;28;01mif\u001b[39;00m name \u001b[38;5;129;01mis\u001b[39;00m \u001b[38;5;129;01mnot\u001b[39;00m \u001b[38;5;28;01mNone\u001b[39;00m:\n",
      "\u001b[0;31mResourceExhaustedError\u001b[0m: Graph execution error:\n\nDetected at node sequential/conv2d/Conv2D defined at (most recent call last):\n  File \"/usr/lib/python3.10/runpy.py\", line 196, in _run_module_as_main\n\n  File \"/usr/lib/python3.10/runpy.py\", line 86, in _run_code\n\n  File \"/home/dori/.local/lib/python3.10/site-packages/ipykernel_launcher.py\", line 18, in <module>\n\n  File \"/home/dori/.local/lib/python3.10/site-packages/traitlets/config/application.py\", line 1075, in launch_instance\n\n  File \"/home/dori/.local/lib/python3.10/site-packages/ipykernel/kernelapp.py\", line 739, in start\n\n  File \"/home/dori/.local/lib/python3.10/site-packages/tornado/platform/asyncio.py\", line 205, in start\n\n  File \"/usr/lib/python3.10/asyncio/base_events.py\", line 603, in run_forever\n\n  File \"/usr/lib/python3.10/asyncio/base_events.py\", line 1909, in _run_once\n\n  File \"/usr/lib/python3.10/asyncio/events.py\", line 80, in _run\n\n  File \"/home/dori/.local/lib/python3.10/site-packages/ipykernel/kernelbase.py\", line 545, in dispatch_queue\n\n  File \"/home/dori/.local/lib/python3.10/site-packages/ipykernel/kernelbase.py\", line 534, in process_one\n\n  File \"/home/dori/.local/lib/python3.10/site-packages/ipykernel/kernelbase.py\", line 437, in dispatch_shell\n\n  File \"/home/dori/.local/lib/python3.10/site-packages/ipykernel/ipkernel.py\", line 362, in execute_request\n\n  File \"/home/dori/.local/lib/python3.10/site-packages/ipykernel/kernelbase.py\", line 778, in execute_request\n\n  File \"/home/dori/.local/lib/python3.10/site-packages/ipykernel/ipkernel.py\", line 449, in do_execute\n\n  File \"/home/dori/.local/lib/python3.10/site-packages/ipykernel/zmqshell.py\", line 549, in run_cell\n\n  File \"/home/dori/.local/lib/python3.10/site-packages/IPython/core/interactiveshell.py\", line 3075, in run_cell\n\n  File \"/home/dori/.local/lib/python3.10/site-packages/IPython/core/interactiveshell.py\", line 3130, in _run_cell\n\n  File \"/home/dori/.local/lib/python3.10/site-packages/IPython/core/async_helpers.py\", line 129, in _pseudo_sync_runner\n\n  File \"/home/dori/.local/lib/python3.10/site-packages/IPython/core/interactiveshell.py\", line 3334, in run_cell_async\n\n  File \"/home/dori/.local/lib/python3.10/site-packages/IPython/core/interactiveshell.py\", line 3517, in run_ast_nodes\n\n  File \"/home/dori/.local/lib/python3.10/site-packages/IPython/core/interactiveshell.py\", line 3577, in run_code\n\n  File \"/tmp/ipykernel_19641/586409612.py\", line 1, in <module>\n\n  File \"/home/dori/.local/lib/python3.10/site-packages/keras/src/utils/traceback_utils.py\", line 65, in error_handler\n\n  File \"/home/dori/.local/lib/python3.10/site-packages/keras/src/engine/training.py\", line 1807, in fit\n\n  File \"/home/dori/.local/lib/python3.10/site-packages/keras/src/engine/training.py\", line 1401, in train_function\n\n  File \"/home/dori/.local/lib/python3.10/site-packages/keras/src/engine/training.py\", line 1384, in step_function\n\n  File \"/home/dori/.local/lib/python3.10/site-packages/keras/src/engine/training.py\", line 1373, in run_step\n\n  File \"/home/dori/.local/lib/python3.10/site-packages/keras/src/engine/training.py\", line 1150, in train_step\n\n  File \"/home/dori/.local/lib/python3.10/site-packages/keras/src/utils/traceback_utils.py\", line 65, in error_handler\n\n  File \"/home/dori/.local/lib/python3.10/site-packages/keras/src/engine/training.py\", line 590, in __call__\n\n  File \"/home/dori/.local/lib/python3.10/site-packages/keras/src/utils/traceback_utils.py\", line 65, in error_handler\n\n  File \"/home/dori/.local/lib/python3.10/site-packages/keras/src/engine/base_layer.py\", line 1149, in __call__\n\n  File \"/home/dori/.local/lib/python3.10/site-packages/keras/src/utils/traceback_utils.py\", line 96, in error_handler\n\n  File \"/home/dori/.local/lib/python3.10/site-packages/keras/src/engine/sequential.py\", line 398, in call\n\n  File \"/home/dori/.local/lib/python3.10/site-packages/keras/src/engine/functional.py\", line 515, in call\n\n  File \"/home/dori/.local/lib/python3.10/site-packages/keras/src/engine/functional.py\", line 672, in _run_internal_graph\n\n  File \"/home/dori/.local/lib/python3.10/site-packages/keras/src/utils/traceback_utils.py\", line 65, in error_handler\n\n  File \"/home/dori/.local/lib/python3.10/site-packages/keras/src/engine/base_layer.py\", line 1149, in __call__\n\n  File \"/home/dori/.local/lib/python3.10/site-packages/keras/src/utils/traceback_utils.py\", line 96, in error_handler\n\n  File \"/home/dori/.local/lib/python3.10/site-packages/keras/src/layers/convolutional/base_conv.py\", line 290, in call\n\n  File \"/home/dori/.local/lib/python3.10/site-packages/keras/src/layers/convolutional/base_conv.py\", line 262, in convolution_op\n\nOOM when allocating tensor with shape[32,32,128,128] and type float on /job:localhost/replica:0/task:0/device:GPU:0 by allocator GPU_0_bfc\n\t [[{{node sequential/conv2d/Conv2D}}]]\nHint: If you want to see a list of allocated tensors when OOM happens, add report_tensor_allocations_upon_oom to RunOptions for current allocation info. This isn't available when running in Eager mode.\n [Op:__inference_train_function_2810]"
     ]
    }
   ],
   "source": [
    "training_history = model.fit(x=training_imgs, validation_data=valid_imgs, epochs=10, batch_size=16)"
   ]
  }
 ],
 "metadata": {
  "kernelspec": {
   "display_name": "Python 3 (ipykernel)",
   "language": "python",
   "name": "python3"
  },
  "language_info": {
   "codemirror_mode": {
    "name": "ipython",
    "version": 3
   },
   "file_extension": ".py",
   "mimetype": "text/x-python",
   "name": "python",
   "nbconvert_exporter": "python",
   "pygments_lexer": "ipython3",
   "version": "3.10.12"
  }
 },
 "nbformat": 4,
 "nbformat_minor": 4
}
